{
  "nbformat": 4,
  "nbformat_minor": 0,
  "metadata": {
    "colab": {
      "name": "Regression Methods Assignment 1 - Rufaidah Bagido.ipynb",
      "provenance": []
    },
    "kernelspec": {
      "name": "python3",
      "display_name": "Python 3"
    }
  },
  "cells": [
    {
      "cell_type": "code",
      "metadata": {
        "id": "6wmrux3jy_8_"
      },
      "source": [
        "import numpy as np\n",
        "import pandas as pd\n",
        "import matplotlib.pyplot as plt "
      ],
      "execution_count": null,
      "outputs": []
    },
    {
      "cell_type": "code",
      "metadata": {
        "id": "YdFe07X7zXZy",
        "outputId": "66338633-9828-406b-cd6b-2cf1d5c9dc60",
        "colab": {
          "base_uri": "https://localhost:8080/",
          "height": 306
        }
      },
      "source": [
        "#Pre-peocessing dataSet\n",
        "#import data\n",
        "train_data = pd.read_csv(\"Ecommerce Customers.csv\")\n",
        "#Print some of the data\n",
        "train_data.head()\n"
      ],
      "execution_count": null,
      "outputs": [
        {
          "output_type": "execute_result",
          "data": {
            "text/html": [
              "<div>\n",
              "<style scoped>\n",
              "    .dataframe tbody tr th:only-of-type {\n",
              "        vertical-align: middle;\n",
              "    }\n",
              "\n",
              "    .dataframe tbody tr th {\n",
              "        vertical-align: top;\n",
              "    }\n",
              "\n",
              "    .dataframe thead th {\n",
              "        text-align: right;\n",
              "    }\n",
              "</style>\n",
              "<table border=\"1\" class=\"dataframe\">\n",
              "  <thead>\n",
              "    <tr style=\"text-align: right;\">\n",
              "      <th></th>\n",
              "      <th>Email</th>\n",
              "      <th>Address</th>\n",
              "      <th>Avatar</th>\n",
              "      <th>Avg. Session Length</th>\n",
              "      <th>Time on App</th>\n",
              "      <th>Time on Website</th>\n",
              "      <th>Length of Membership</th>\n",
              "      <th>Yearly Amount Spent</th>\n",
              "    </tr>\n",
              "  </thead>\n",
              "  <tbody>\n",
              "    <tr>\n",
              "      <th>0</th>\n",
              "      <td>mstephenson@fernandez.com</td>\n",
              "      <td>835 Frank Tunnel\\nWrightmouth, MI 82180-9605</td>\n",
              "      <td>Violet</td>\n",
              "      <td>34.497268</td>\n",
              "      <td>12.655651</td>\n",
              "      <td>39.577668</td>\n",
              "      <td>4.082621</td>\n",
              "      <td>587.951054</td>\n",
              "    </tr>\n",
              "    <tr>\n",
              "      <th>1</th>\n",
              "      <td>hduke@hotmail.com</td>\n",
              "      <td>4547 Archer Common\\nDiazchester, CA 06566-8576</td>\n",
              "      <td>DarkGreen</td>\n",
              "      <td>31.926272</td>\n",
              "      <td>11.109461</td>\n",
              "      <td>37.268959</td>\n",
              "      <td>2.664034</td>\n",
              "      <td>392.204933</td>\n",
              "    </tr>\n",
              "    <tr>\n",
              "      <th>2</th>\n",
              "      <td>pallen@yahoo.com</td>\n",
              "      <td>24645 Valerie Unions Suite 582\\nCobbborough, D...</td>\n",
              "      <td>Bisque</td>\n",
              "      <td>33.000915</td>\n",
              "      <td>11.330278</td>\n",
              "      <td>37.110597</td>\n",
              "      <td>4.104543</td>\n",
              "      <td>487.547505</td>\n",
              "    </tr>\n",
              "    <tr>\n",
              "      <th>3</th>\n",
              "      <td>riverarebecca@gmail.com</td>\n",
              "      <td>1414 David Throughway\\nPort Jason, OH 22070-1220</td>\n",
              "      <td>SaddleBrown</td>\n",
              "      <td>34.305557</td>\n",
              "      <td>13.717514</td>\n",
              "      <td>36.721283</td>\n",
              "      <td>3.120179</td>\n",
              "      <td>581.852344</td>\n",
              "    </tr>\n",
              "    <tr>\n",
              "      <th>4</th>\n",
              "      <td>mstephens@davidson-herman.com</td>\n",
              "      <td>14023 Rodriguez Passage\\nPort Jacobville, PR 3...</td>\n",
              "      <td>MediumAquaMarine</td>\n",
              "      <td>33.330673</td>\n",
              "      <td>12.795189</td>\n",
              "      <td>37.536653</td>\n",
              "      <td>4.446308</td>\n",
              "      <td>599.406092</td>\n",
              "    </tr>\n",
              "  </tbody>\n",
              "</table>\n",
              "</div>"
            ],
            "text/plain": [
              "                           Email  ... Yearly Amount Spent\n",
              "0      mstephenson@fernandez.com  ...          587.951054\n",
              "1              hduke@hotmail.com  ...          392.204933\n",
              "2               pallen@yahoo.com  ...          487.547505\n",
              "3        riverarebecca@gmail.com  ...          581.852344\n",
              "4  mstephens@davidson-herman.com  ...          599.406092\n",
              "\n",
              "[5 rows x 8 columns]"
            ]
          },
          "metadata": {
            "tags": []
          },
          "execution_count": 74
        }
      ]
    },
    {
      "cell_type": "code",
      "metadata": {
        "id": "_0Mtrtr4zf7p",
        "outputId": "c9293b46-20d6-48ca-b34c-96b92b218817",
        "colab": {
          "base_uri": "https://localhost:8080/",
          "height": 294
        }
      },
      "source": [
        "train_data.describe()\n"
      ],
      "execution_count": null,
      "outputs": [
        {
          "output_type": "execute_result",
          "data": {
            "text/html": [
              "<div>\n",
              "<style scoped>\n",
              "    .dataframe tbody tr th:only-of-type {\n",
              "        vertical-align: middle;\n",
              "    }\n",
              "\n",
              "    .dataframe tbody tr th {\n",
              "        vertical-align: top;\n",
              "    }\n",
              "\n",
              "    .dataframe thead th {\n",
              "        text-align: right;\n",
              "    }\n",
              "</style>\n",
              "<table border=\"1\" class=\"dataframe\">\n",
              "  <thead>\n",
              "    <tr style=\"text-align: right;\">\n",
              "      <th></th>\n",
              "      <th>Avg. Session Length</th>\n",
              "      <th>Time on App</th>\n",
              "      <th>Time on Website</th>\n",
              "      <th>Length of Membership</th>\n",
              "      <th>Yearly Amount Spent</th>\n",
              "    </tr>\n",
              "  </thead>\n",
              "  <tbody>\n",
              "    <tr>\n",
              "      <th>count</th>\n",
              "      <td>500.000000</td>\n",
              "      <td>500.000000</td>\n",
              "      <td>500.000000</td>\n",
              "      <td>500.000000</td>\n",
              "      <td>500.000000</td>\n",
              "    </tr>\n",
              "    <tr>\n",
              "      <th>mean</th>\n",
              "      <td>33.053194</td>\n",
              "      <td>12.052488</td>\n",
              "      <td>37.060445</td>\n",
              "      <td>3.533462</td>\n",
              "      <td>499.314038</td>\n",
              "    </tr>\n",
              "    <tr>\n",
              "      <th>std</th>\n",
              "      <td>0.992563</td>\n",
              "      <td>0.994216</td>\n",
              "      <td>1.010489</td>\n",
              "      <td>0.999278</td>\n",
              "      <td>79.314782</td>\n",
              "    </tr>\n",
              "    <tr>\n",
              "      <th>min</th>\n",
              "      <td>29.532429</td>\n",
              "      <td>8.508152</td>\n",
              "      <td>33.913847</td>\n",
              "      <td>0.269901</td>\n",
              "      <td>256.670582</td>\n",
              "    </tr>\n",
              "    <tr>\n",
              "      <th>25%</th>\n",
              "      <td>32.341822</td>\n",
              "      <td>11.388153</td>\n",
              "      <td>36.349257</td>\n",
              "      <td>2.930450</td>\n",
              "      <td>445.038277</td>\n",
              "    </tr>\n",
              "    <tr>\n",
              "      <th>50%</th>\n",
              "      <td>33.082008</td>\n",
              "      <td>11.983231</td>\n",
              "      <td>37.069367</td>\n",
              "      <td>3.533975</td>\n",
              "      <td>498.887875</td>\n",
              "    </tr>\n",
              "    <tr>\n",
              "      <th>75%</th>\n",
              "      <td>33.711985</td>\n",
              "      <td>12.753850</td>\n",
              "      <td>37.716432</td>\n",
              "      <td>4.126502</td>\n",
              "      <td>549.313828</td>\n",
              "    </tr>\n",
              "    <tr>\n",
              "      <th>max</th>\n",
              "      <td>36.139662</td>\n",
              "      <td>15.126994</td>\n",
              "      <td>40.005182</td>\n",
              "      <td>6.922689</td>\n",
              "      <td>765.518462</td>\n",
              "    </tr>\n",
              "  </tbody>\n",
              "</table>\n",
              "</div>"
            ],
            "text/plain": [
              "       Avg. Session Length  ...  Yearly Amount Spent\n",
              "count           500.000000  ...           500.000000\n",
              "mean             33.053194  ...           499.314038\n",
              "std               0.992563  ...            79.314782\n",
              "min              29.532429  ...           256.670582\n",
              "25%              32.341822  ...           445.038277\n",
              "50%              33.082008  ...           498.887875\n",
              "75%              33.711985  ...           549.313828\n",
              "max              36.139662  ...           765.518462\n",
              "\n",
              "[8 rows x 5 columns]"
            ]
          },
          "metadata": {
            "tags": []
          },
          "execution_count": 75
        }
      ]
    },
    {
      "cell_type": "code",
      "metadata": {
        "id": "PyV1WDYYzmn4",
        "outputId": "cf223f1a-2402-413e-ef5a-3247fbe5b049",
        "colab": {
          "base_uri": "https://localhost:8080/",
          "height": 173
        }
      },
      "source": [
        "#check null values\n",
        "train_data.isnull().sum()"
      ],
      "execution_count": null,
      "outputs": [
        {
          "output_type": "execute_result",
          "data": {
            "text/plain": [
              "Email                   0\n",
              "Address                 0\n",
              "Avatar                  0\n",
              "Avg. Session Length     0\n",
              "Time on App             0\n",
              "Time on Website         0\n",
              "Length of Membership    0\n",
              "Yearly Amount Spent     0\n",
              "dtype: int64"
            ]
          },
          "metadata": {
            "tags": []
          },
          "execution_count": 76
        }
      ]
    },
    {
      "cell_type": "code",
      "metadata": {
        "id": "3XhINbdnzoJA",
        "outputId": "14fb8300-f7f2-4d06-80d6-3ffcb9314edd",
        "colab": {
          "base_uri": "https://localhost:8080/",
          "height": 413
        }
      },
      "source": [
        "#rename the columns names\n",
        "train_data.rename(columns={'Avg. Session Length':'Avg_Session_Length', 'Time on App':'Time_on_App','Time on Website':'Time_on_Website','Length of Membership':'Length_of_Membership','Yearly Amount Spent':'Yearly_Amount_Spent'},inplace=1)\n",
        "train_data.head()"
      ],
      "execution_count": null,
      "outputs": [
        {
          "output_type": "execute_result",
          "data": {
            "text/html": [
              "<div>\n",
              "<style scoped>\n",
              "    .dataframe tbody tr th:only-of-type {\n",
              "        vertical-align: middle;\n",
              "    }\n",
              "\n",
              "    .dataframe tbody tr th {\n",
              "        vertical-align: top;\n",
              "    }\n",
              "\n",
              "    .dataframe thead th {\n",
              "        text-align: right;\n",
              "    }\n",
              "</style>\n",
              "<table border=\"1\" class=\"dataframe\">\n",
              "  <thead>\n",
              "    <tr style=\"text-align: right;\">\n",
              "      <th></th>\n",
              "      <th>Email</th>\n",
              "      <th>Address</th>\n",
              "      <th>Avatar</th>\n",
              "      <th>Avg_Session_Length</th>\n",
              "      <th>Time_on_App</th>\n",
              "      <th>Time_on_Website</th>\n",
              "      <th>Length_of_Membership</th>\n",
              "      <th>Yearly_Amount_Spent</th>\n",
              "    </tr>\n",
              "  </thead>\n",
              "  <tbody>\n",
              "    <tr>\n",
              "      <th>0</th>\n",
              "      <td>mstephenson@fernandez.com</td>\n",
              "      <td>835 Frank Tunnel\\nWrightmouth, MI 82180-9605</td>\n",
              "      <td>Violet</td>\n",
              "      <td>34.497268</td>\n",
              "      <td>12.655651</td>\n",
              "      <td>39.577668</td>\n",
              "      <td>4.082621</td>\n",
              "      <td>587.951054</td>\n",
              "    </tr>\n",
              "    <tr>\n",
              "      <th>1</th>\n",
              "      <td>hduke@hotmail.com</td>\n",
              "      <td>4547 Archer Common\\nDiazchester, CA 06566-8576</td>\n",
              "      <td>DarkGreen</td>\n",
              "      <td>31.926272</td>\n",
              "      <td>11.109461</td>\n",
              "      <td>37.268959</td>\n",
              "      <td>2.664034</td>\n",
              "      <td>392.204933</td>\n",
              "    </tr>\n",
              "    <tr>\n",
              "      <th>2</th>\n",
              "      <td>pallen@yahoo.com</td>\n",
              "      <td>24645 Valerie Unions Suite 582\\nCobbborough, D...</td>\n",
              "      <td>Bisque</td>\n",
              "      <td>33.000915</td>\n",
              "      <td>11.330278</td>\n",
              "      <td>37.110597</td>\n",
              "      <td>4.104543</td>\n",
              "      <td>487.547505</td>\n",
              "    </tr>\n",
              "    <tr>\n",
              "      <th>3</th>\n",
              "      <td>riverarebecca@gmail.com</td>\n",
              "      <td>1414 David Throughway\\nPort Jason, OH 22070-1220</td>\n",
              "      <td>SaddleBrown</td>\n",
              "      <td>34.305557</td>\n",
              "      <td>13.717514</td>\n",
              "      <td>36.721283</td>\n",
              "      <td>3.120179</td>\n",
              "      <td>581.852344</td>\n",
              "    </tr>\n",
              "    <tr>\n",
              "      <th>4</th>\n",
              "      <td>mstephens@davidson-herman.com</td>\n",
              "      <td>14023 Rodriguez Passage\\nPort Jacobville, PR 3...</td>\n",
              "      <td>MediumAquaMarine</td>\n",
              "      <td>33.330673</td>\n",
              "      <td>12.795189</td>\n",
              "      <td>37.536653</td>\n",
              "      <td>4.446308</td>\n",
              "      <td>599.406092</td>\n",
              "    </tr>\n",
              "  </tbody>\n",
              "</table>\n",
              "</div>"
            ],
            "text/plain": [
              "                           Email  ... Yearly_Amount_Spent\n",
              "0      mstephenson@fernandez.com  ...          587.951054\n",
              "1              hduke@hotmail.com  ...          392.204933\n",
              "2               pallen@yahoo.com  ...          487.547505\n",
              "3        riverarebecca@gmail.com  ...          581.852344\n",
              "4  mstephens@davidson-herman.com  ...          599.406092\n",
              "\n",
              "[5 rows x 8 columns]"
            ]
          },
          "metadata": {
            "tags": []
          },
          "execution_count": 77
        }
      ]
    },
    {
      "cell_type": "code",
      "metadata": {
        "id": "NzzhwKtnztph"
      },
      "source": [
        "#remove Unnecessary columns \n",
        "train_data.drop(['Address','Avatar'],axis=1,inplace=True)"
      ],
      "execution_count": null,
      "outputs": []
    },
    {
      "cell_type": "code",
      "metadata": {
        "id": "Y8vQ-NTyzvKZ",
        "outputId": "a42d51ba-fbf5-45b8-fbc9-2cd479c25670",
        "colab": {
          "base_uri": "https://localhost:8080/",
          "height": 1000
        }
      },
      "source": [
        "#check if a feature has a relation with the output\n",
        "plt.scatter(train_data.Avg_Session_Length,train_data.Yearly_Amount_Spent,color='b',s=40)\n",
        "plt.x = train_data.Avg_Session_Length\n",
        "plt.y = train_data.Yearly_Amount_Spent\n",
        "plt.xlabel('Avg Session Length') \n",
        "plt.ylabel('Yearly Amount Spent') \n",
        "plt.show()\n",
        "\n",
        "plt.scatter (train_data.Time_on_Website,train_data.Yearly_Amount_Spent,color='g',s=40)\n",
        "plt.x = train_data.Time_on_Website\n",
        "plt.y = train_data.Yearly_Amount_Spent\n",
        "plt.xlabel('Time on Website') \n",
        "plt.ylabel('Yearly Amount Spent') \n",
        "plt.show()\n",
        "\n",
        "plt.scatter(train_data.Time_on_App,train_data.Yearly_Amount_Spent,color='r',s=40)\n",
        "plt.x = train_data.Time_on_App\n",
        "plt.y = train_data.Yearly_Amount_Spent\n",
        "plt.xlabel('Time on Application') \n",
        "plt.ylabel('Yearly Amount Spent') \n",
        "plt.show()\n",
        "\n",
        "plt.scatter(train_data.Length_of_Membership,train_data.Yearly_Amount_Spent,color='orange',s=40)\n",
        "plt.x = train_data.Length_of_Membership\n",
        "plt.y = train_data.Yearly_Amount_Spent\n",
        "plt.xlabel('Length of Membership') \n",
        "plt.ylabel('Yearly Amount Spent')\n",
        "plt.show()"
      ],
      "execution_count": null,
      "outputs": [
        {
          "output_type": "display_data",
          "data": {
            "image/png": "[encoded data removed]",
            "text/plain": [
              "<Figure size 432x288 with 1 Axes>"
            ]
          },
          "metadata": {
            "tags": [],
            "needs_background": "light"
          }
        },
        {
          "output_type": "display_data",
          "data": {
            "image/png": "[encoded data removed]",
            "text/plain": [
              "<Figure size 432x288 with 1 Axes>"
            ]
          },
          "metadata": {
            "tags": [],
            "needs_background": "light"
          }
        },
        {
          "output_type": "display_data",
          "data": {
            "image/png": "[encoded data removed]",
            "text/plain": [
              "<Figure size 432x288 with 1 Axes>"
            ]
          },
          "metadata": {
            "tags": [],
            "needs_background": "light"
          }
        },
        {
          "output_type": "display_data",
          "data": {
            "image/png": "[encoded data removed]",
            "text/plain": [
              "<Figure size 432x288 with 1 Axes>"
            ]
          },
          "metadata": {
            "tags": [],
            "needs_background": "light"
          }
        }
      ]
    },
    {
      "cell_type": "code",
      "metadata": {
        "id": "9NfJQ_Tvz1-J"
      },
      "source": [
        "#Choose X and y values\n",
        "X = np.array(train_data['Length_of_Membership'])\n",
        "#round the values \n",
        "for i in range(len(X)):\n",
        "  X[i] = round(X[i],5)\n",
        "\n",
        "y = np.array(train_data['Yearly_Amount_Spent'])\n",
        "#round the values \n",
        "for i in range(len(y)):\n",
        "  y[i] = round(y[i],5)\n",
        "  \n",
        "#Split train and test sets\n",
        "from sklearn.model_selection import train_test_split\n",
        "X_train, X_test, y_train, y_test = train_test_split(X, y, test_size=0.25)"
      ],
      "execution_count": null,
      "outputs": []
    },
    {
      "cell_type": "code",
      "metadata": {
        "id": "aZIv_dWzz8Hx",
        "outputId": "562ad0b7-7bcd-4f7d-96a2-21c79a67d6b0",
        "colab": {
          "base_uri": "https://localhost:8080/",
          "height": 35
        }
      },
      "source": [
        "#calculating the gradient Descent  with on feature\n",
        "n = len(X_train)\n",
        "theta_0 = 0\n",
        "theta_1 = 0\n",
        "L = 0.01 #learning rate\n",
        "itr = 1000 # number of itrations\n",
        "\n",
        "#to draw the gradient line\n",
        "cost_history = [0]\n",
        "t0_history = [0]\n",
        "t1_history = [0] \n",
        "summation = 0.0\n",
        "\n",
        "for i in range(itr):\n",
        "  Y_pred = theta_0 + theta_1 * X_train \n",
        "  D_theta_1 = (-2/n) * sum(X_train * (y_train - Y_pred))  # Derivative wrt m\n",
        "  D_thete_0 = (-2/n) * sum(y_train - Y_pred)  # Derivative wrt c\n",
        "  theta_1 = theta_1 - L * D_theta_1  # Update theta_1\n",
        "  theta_0 = theta_0 - L * D_thete_0  # Update theta_0\n",
        "  t0_history.append(theta_0)\n",
        "  t1_history.append(theta_1)  \n",
        "\n",
        "  for i in range (n):\n",
        "    #calculate cost function J(0) = 1/2n sum(Y_pred - Y)^2\n",
        "    summation = 1/n * np.sum(((theta_1 * X_train[i] + theta_0) - y_train[i])**2)\n",
        "  cost_history.append(summation)\n",
        "\n",
        "print(theta_0,theta_1)\n"
      ],
      "execution_count": null,
      "outputs": [
        {
          "output_type": "stream",
          "text": [
            "213.32073550224462 79.55191826265055\n"
          ],
          "name": "stdout"
        }
      ]
    },
    {
      "cell_type": "code",
      "metadata": {
        "id": "mDMOSoC80Doo",
        "outputId": "20715643-2e76-4c10-a7e4-156cd4ac4d26",
        "colab": {
          "base_uri": "https://localhost:8080/",
          "height": 313
        }
      },
      "source": [
        "print(cost_history[-1])\n",
        "plt.title('Cost Function J')\n",
        "plt.xlabel('No. of iterations')\n",
        "plt.ylabel('Cost')\n",
        "plt.plot(cost_history)\n",
        "plt.ylim(ymin=0)\n",
        "plt.xlim(xmin=0)\n",
        "plt.show()"
      ],
      "execution_count": null,
      "outputs": [
        {
          "output_type": "stream",
          "text": [
            "4.636144217437508\n"
          ],
          "name": "stdout"
        },
        {
          "output_type": "display_data",
          "data": {
            "image/png": "[encoded data removed]",
            "text/plain": [
              "<Figure size 432x288 with 1 Axes>"
            ]
          },
          "metadata": {
            "tags": [],
            "needs_background": "light"
          }
        }
      ]
    },
    {
      "cell_type": "code",
      "metadata": {
        "id": "_HYDI-FC0eY4",
        "outputId": "306143d7-e7b8-44aa-f8b4-780e41ac398d",
        "colab": {
          "base_uri": "https://localhost:8080/",
          "height": 297
        }
      },
      "source": [
        "#predecting y_test valuse using this formula (210.5236 + 80.9406 * X_test)\n",
        "y_test_pred = []\n",
        "for i in range(len(X_test)):\n",
        "  y_test_pred.append(theta_0 + theta_1 * X_test[i])\n",
        "#conver it to np array\n",
        "y_test_pred = np.array(y_test_pred)\n",
        "\n",
        "#draw y real values and predicted values\n",
        "plt.scatter(X_test, y_test,color='g',marker=\"o\", s=40, )\n",
        "plt.plot(X_test, y_test_pred, color='r')\n",
        "plt.xlabel('Length of Membership') \n",
        "plt.ylabel('Yearly Amount Spent')\n"
      ],
      "execution_count": null,
      "outputs": [
        {
          "output_type": "execute_result",
          "data": {
            "text/plain": [
              "Text(0, 0.5, 'Yearly Amount Spent')"
            ]
          },
          "metadata": {
            "tags": []
          },
          "execution_count": 83
        },
        {
          "output_type": "display_data",
          "data": {
            "image/png": "[encoded data removed]",
            "text/plain": [
              "<Figure size 432x288 with 1 Axes>"
            ]
          },
          "metadata": {
            "tags": [],
            "needs_background": "light"
          }
        }
      ]
    },
    {
      "cell_type": "code",
      "metadata": {
        "id": "vEkh21lK1UQ5",
        "outputId": "f6be6ff4-ba7d-4d62-fe45-295aa5776e19",
        "colab": {
          "base_uri": "https://localhost:8080/",
          "height": 104
        }
      },
      "source": [
        "#Evaluate the model\n",
        "#Mean Absolute Error (MAE)\n",
        "m = len(y_test)\n",
        "MAE = 1/m * np.sum(np.absolute(y_test - y_test_pred))\n",
        "print(\"Mean Absolute Error: \", MAE)\n",
        "#MEAN SQUARED ERROR (MSE)\n",
        "MSE = 1/m * np.sum((y_test - y_test_pred)**2)\n",
        "print(\"MEAN SQUARED ERROR: \",MSE)\n",
        "#ROOT MEAN SQUARED ERROR (RMSE)\n",
        "RMSE = np.sqrt(1/m * np.sum((y_test - y_test_pred)*(y_test - y_test_pred)))\n",
        "print(\"ROOT MEAN SQUARED ERROR: \" , RMSE)\n",
        "#R-SQUARED SCORE\n",
        "y_bar = y_test.mean()\n",
        "ss_tot = np.sum((y_test - y_bar)**2)\n",
        "ss_res = np.sum((y_test - y_test_pred)**2)\n",
        "R_SS = 1 - (ss_res/ss_tot)\n",
        "print(\"R-SQUARED SCORE: \",R_SS*100,'%')\n",
        "\n",
        "#ADJUSTED R-SQUARED SCORE\n",
        "Adj_Rss = 1 - ((1 - R_SS)*(m - 1) / (m - 1 - 1))\n",
        "print(\"ADJUSTED R-SQUARED SCORE: \",Adj_Rss*100,'%')"
      ],
      "execution_count": null,
      "outputs": [
        {
          "output_type": "stream",
          "text": [
            "Mean Absolute Error:  35.57988930412075\n",
            "MEAN SQUARED ERROR:  2080.4387379577092\n",
            "ROOT MEAN SQUARED ERROR:  45.61182673340007\n",
            "R-SQUARED SCORE:  65.13903343095917 %\n",
            "ADJUSTED R-SQUARED SCORE:  64.85561093852795 %\n"
          ],
          "name": "stdout"
        }
      ]
    },
    {
      "cell_type": "code",
      "metadata": {
        "id": "bpNL8MPB2J2K",
        "outputId": "dea87b86-9a9e-4aa8-be2e-5a27d80f4961",
        "colab": {
          "base_uri": "https://localhost:8080/",
          "height": 387
        }
      },
      "source": [
        "from sklearn import datasets, linear_model\n",
        "# Create linear regression object\n",
        "regr = linear_model.LinearRegression()\n",
        "\n",
        "# Train the model using the training sets\n",
        "X_train = X_train.reshape(-1,1)\n",
        "y_train = y_train.reshape(-1,1)\n",
        "regr.fit(X_train, y_train)\n",
        "\n",
        "Y_pred_3 = regr.predict(X_test.reshape(-1,1))\n",
        "\n",
        "#draw Y real values and predicted values\n",
        "plt.scatter(X_test, y_test,color='g',marker=\"o\", s=40)\n",
        "plt.plot(X_test, Y_pred_3, color='r')\n",
        "#Model Evaluation \n",
        "from sklearn import metrics\n",
        "#Mean Absolute Error (MAE)\n",
        "m_MAE = metrics.mean_absolute_error(y_test, Y_pred_3)\n",
        "print(\"Mean Absolute Error: \", m_MAE)\n",
        "#MEAN SQUARED ERROR (MSE)\n",
        "m_MSE = metrics.mean_squared_error(y_test, Y_pred_3)\n",
        "print(\"MEAN SQUARED ERROR: \", m_MSE)\n",
        "#ROOT MEAN SQUARED ERROR (RMSE)\n",
        "m_RMSE = np.sqrt(metrics.mean_squared_error(y_test,Y_pred_3))\n",
        "print(\"ROOT MEAN SQUARED ERROR: \", m_RMSE)\n",
        "#R-SQUARED SCORE\n",
        "m_r2 = metrics.r2_score(y_test,Y_pred_3)\n",
        "print(\"R-SQUARED SCORE: \", m_r2 * 100 ,'%')\n",
        "#ADJUSTED R-SQUARED SCORE\n",
        "m_adj_r2 = 1 - ((1 - m_r2)*(m - 1) / (m - 1 - 1))\n",
        "print(\"ADJUSTED R-SQUARED SCORE: \", m_adj_r2*100, '%')\n",
        "print(regr.coef_)\n",
        "# variance score: 1 means perfect prediction \n",
        "print('Variance score: {}'.format(regr.score(X_train, y_train))) \n"
      ],
      "execution_count": null,
      "outputs": [
        {
          "output_type": "stream",
          "text": [
            "Mean Absolute Error:  34.390927132296476\n",
            "MEAN SQUARED ERROR:  1847.1595029463256\n",
            "ROOT MEAN SQUARED ERROR:  42.97859354313872\n",
            "R-SQUARED SCORE:  69.047987568665 %\n",
            "ADJUSTED R-SQUARED SCORE:  68.79634519117445 %\n",
            "[[63.83471162]]\n",
            "Variance score: 0.6433052299910738\n"
          ],
          "name": "stdout"
        },
        {
          "output_type": "display_data",
          "data": {
            "image/png": "[encoded data removed]",
            "text/plain": [
              "<Figure size 432x288 with 1 Axes>"
            ]
          },
          "metadata": {
            "tags": [],
            "needs_background": "light"
          }
        }
      ]
    },
    {
      "cell_type": "code",
      "metadata": {
        "id": "Iiz9VeJo2TOZ",
        "outputId": "6ddb83ef-620b-40bb-a7dd-a84f9f552912",
        "colab": {
          "base_uri": "https://localhost:8080/",
          "height": 104
        }
      },
      "source": [
        "#Regualrization Implementation\n",
        "\n",
        "from sklearn.linear_model import Ridge\n",
        "ridgereg = Ridge(alpha=0.01, normalize=True)\n",
        "ridgereg.fit(X_train, y_train)\n",
        "\n",
        "reg_y_pred = ridgereg.predict(X_test.reshape(-1, 1))\n",
        "\n",
        "\n",
        "#Mean Absolute Error (MAE)\n",
        "m_MAE = metrics.mean_absolute_error(y_test, reg_y_pred)\n",
        "print(\"Mean Absolute Error: \", m_MAE)\n",
        "#MEAN SQUARED ERROR (MSE)\n",
        "m_MSE = metrics.mean_squared_error(y_test, reg_y_pred)\n",
        "print(\"MEAN SQUARED ERROR: \", m_MSE)\n",
        "#ROOT MEAN SQUARED ERROR (RMSE)\n",
        "m_RMSE = np.sqrt(metrics.mean_squared_error(y_test,reg_y_pred))\n",
        "print(\"ROOT MEAN SQUARED ERROR: \", m_RMSE)\n",
        "#R-SQUARED SCORE\n",
        "m_r2 = metrics.r2_score(y_test,reg_y_pred)\n",
        "print(\"R-SQUARED SCORE: \", m_r2 * 100 ,'%')\n",
        "#ADJUSTED R-SQUARED SCORE\n",
        "m_adj_r2 = 1 - ((1 - m_r2)*(m - 1) / (m - 1 - 1))\n",
        "print(\"ADJUSTED R-SQUARED SCORE: \", m_adj_r2*100, '%')"
      ],
      "execution_count": null,
      "outputs": [
        {
          "output_type": "stream",
          "text": [
            "Mean Absolute Error:  34.42089247028893\n",
            "MEAN SQUARED ERROR:  1849.4409533498422\n",
            "ROOT MEAN SQUARED ERROR:  43.00512705887336\n",
            "R-SQUARED SCORE:  69.00975834095699 %\n",
            "ADJUSTED R-SQUARED SCORE:  68.75780515673713 %\n"
          ],
          "name": "stdout"
        }
      ]
    },
    {
      "cell_type": "code",
      "metadata": {
        "id": "zhVjDb0Y21wr",
        "outputId": "d3a02e83-7397-406f-8ad4-06fac93d0966",
        "colab": {
          "base_uri": "https://localhost:8080/",
          "height": 104
        }
      },
      "source": [
        "# Decision Tree Regression \n",
        "from sklearn.tree import DecisionTreeRegressor  \n",
        "# create a regressor object \n",
        "regressor = DecisionTreeRegressor(random_state = 0)  \n",
        "# fit the regressor with X and Y data \n",
        "regressor.fit(X_train, y_train) \n",
        "# predict y values\n",
        "y_pred = regressor.predict(X_test.reshape(-1,1)) \n",
        "\n",
        "#Mean Absolute Error (MAE)\n",
        "m_MAE = metrics.mean_absolute_error(y_test, y_pred)\n",
        "print(\"Mean Absolute Error: \", m_MAE)\n",
        "#MEAN SQUARED ERROR (MSE)\n",
        "m_MSE = metrics.mean_squared_error(y_test, y_pred)\n",
        "print(\"MEAN SQUARED ERROR: \", m_MSE)\n",
        "#ROOT MEAN SQUARED ERROR (RMSE)\n",
        "m_RMSE = np.sqrt(metrics.mean_squared_error(y_test,y_pred))\n",
        "print(\"ROOT MEAN SQUARED ERROR: \", m_RMSE)\n",
        "#R-SQUARED SCORE\n",
        "m_r2 = metrics.r2_score(y_test,y_pred)\n",
        "print(\"R-SQUARED SCORE: \", m_r2 * 100 ,'%')\n",
        "#ADJUSTED R-SQUARED SCORE\n",
        "m_adj_r2 = 1 - ((1 - m_r2)*(m - 1) / (m - 1 - 1))\n",
        "print(\"ADJUSTED R-SQUARED SCORE: \", m_adj_r2*100, '%')"
      ],
      "execution_count": null,
      "outputs": [
        {
          "output_type": "stream",
          "text": [
            "Mean Absolute Error:  49.17519088\n",
            "MEAN SQUARED ERROR:  3830.394995094776\n",
            "ROOT MEAN SQUARED ERROR:  61.89018496575023\n",
            "R-SQUARED SCORE:  35.815811619955184 %\n",
            "ADJUSTED R-SQUARED SCORE:  35.29398895019873 %\n"
          ],
          "name": "stdout"
        }
      ]
    },
    {
      "cell_type": "code",
      "metadata": {
        "id": "YFduM7H92_KA",
        "outputId": "73b3bbb1-3998-4f17-c4d9-96f3c0f7921e",
        "colab": {
          "base_uri": "https://localhost:8080/",
          "height": 283
        }
      },
      "source": [
        "X_grid = np.arange(min(X_test), max(X_test), 0.01) \n",
        "  \n",
        "# reshape for reshaping the data into  \n",
        "# a len(X_grid)*1 array, i.e. to make \n",
        "# a column out of the X_grid values \n",
        "X_grid = X_grid.reshape((len(X_grid), 1))  \n",
        "  \n",
        "# scatter plot for original data \n",
        "plt.scatter(X_test, y_test, color = 'red') \n",
        "  \n",
        "# plot predicted data \n",
        "plt.plot(X_grid, regressor.predict(X_grid), color = 'blue')  "
      ],
      "execution_count": null,
      "outputs": [
        {
          "output_type": "execute_result",
          "data": {
            "text/plain": [
              "[<matplotlib.lines.Line2D at 0x7fbd9201e828>]"
            ]
          },
          "metadata": {
            "tags": []
          },
          "execution_count": 88
        },
        {
          "output_type": "display_data",
          "data": {
            "image/png": "[encoded data removed]",
            "text/plain": [
              "<Figure size 432x288 with 1 Axes>"
            ]
          },
          "metadata": {
            "tags": [],
            "needs_background": "light"
          }
        }
      ]
    }
  ]
}